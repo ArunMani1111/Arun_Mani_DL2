{
 "cells": [
  {
   "cell_type": "code",
   "execution_count": 1,
   "metadata": {},
   "outputs": [
    {
     "ename": "TypeError",
     "evalue": "'list' object cannot be interpreted as an integer",
     "output_type": "error",
     "traceback": [
      "\u001b[1;31m---------------------------------------------------------------------------\u001b[0m",
      "\u001b[1;31mTypeError\u001b[0m                                 Traceback (most recent call last)",
      "\u001b[1;32mc:\\Users\\LENOVO\\OneDrive\\Desktop\\DL2\\summarise.ipynb Cell 1\u001b[0m line \u001b[0;36m5\n\u001b[0;32m      <a href='vscode-notebook-cell:/c%3A/Users/LENOVO/OneDrive/Desktop/DL2/summarise.ipynb#W0sZmlsZQ%3D%3D?line=2'>3</a>\u001b[0m \u001b[39mimport\u001b[39;00m \u001b[39mos\u001b[39;00m\n\u001b[0;32m      <a href='vscode-notebook-cell:/c%3A/Users/LENOVO/OneDrive/Desktop/DL2/summarise.ipynb#W0sZmlsZQ%3D%3D?line=3'>4</a>\u001b[0m res \u001b[39m=\u001b[39m []\n\u001b[1;32m----> <a href='vscode-notebook-cell:/c%3A/Users/LENOVO/OneDrive/Desktop/DL2/summarise.ipynb#W0sZmlsZQ%3D%3D?line=4'>5</a>\u001b[0m \u001b[39mfor\u001b[39;00m i \u001b[39min\u001b[39;00m \u001b[39mrange\u001b[39;49m(\u001b[39m1\u001b[39;49m,os\u001b[39m.\u001b[39;49mlistdir(\u001b[39m'\u001b[39;49m\u001b[39m.\u001b[39;49m\u001b[39m'\u001b[39;49m)):\n\u001b[0;32m      <a href='vscode-notebook-cell:/c%3A/Users/LENOVO/OneDrive/Desktop/DL2/summarise.ipynb#W0sZmlsZQ%3D%3D?line=5'>6</a>\u001b[0m \tfile_name \u001b[39m=\u001b[39m \u001b[39mstr\u001b[39m(i)\u001b[39m+\u001b[39m\u001b[39m\"\u001b[39m\u001b[39m.txt\u001b[39m\u001b[39m\"\u001b[39m\n\u001b[0;32m      <a href='vscode-notebook-cell:/c%3A/Users/LENOVO/OneDrive/Desktop/DL2/summarise.ipynb#W0sZmlsZQ%3D%3D?line=6'>7</a>\u001b[0m \t\u001b[39mwith\u001b[39;00m \u001b[39mopen\u001b[39m(file_name, \u001b[39m'\u001b[39m\u001b[39mr\u001b[39m\u001b[39m'\u001b[39m) \u001b[39mas\u001b[39;00m file:\n",
      "\u001b[1;31mTypeError\u001b[0m: 'list' object cannot be interpreted as an integer"
     ]
    }
   ],
   "source": [
    "from nltk.corpus import stopwords\n",
    "from nltk.tokenize import word_tokenize, sent_tokenize\n",
    "import os\n",
    "res = []\n",
    "for i in range(1,os.listdir('.')):\n",
    "\tfile_name = str(i)+\".txt\"\n",
    "\twith open(file_name, 'r') as file:\n",
    "\t\ttext = file.read()\n",
    "\n",
    "\tstopWords = set(stopwords.words(\"english\"))\n",
    "\twords = word_tokenize(text)\n",
    "\n",
    "\n",
    "\tfreq = {}\n",
    "\tfor word in words:\n",
    "\t\tword = word.lower()\n",
    "\t\tif word not in stopWords:\n",
    "\t\t\tif word in freq:\n",
    "\t\t\t\tfreq[word] += 1\n",
    "\t\t\telse:\n",
    "\t\t\t\tfreq[word] = 1\n",
    "\n",
    "\tsentences = sent_tokenize(text)\n",
    "\tsentenceImp = {}\n",
    "\n",
    "\tfor sen in sentences:\n",
    "\t\tfor word, freq in freq.items():\n",
    "\t\t\tif word in sen.lower():\n",
    "\t\t\t\tif sen in sentenceImp:\n",
    "\t\t\t\t\tsentenceImp[sen] += freq\n",
    "\t\t\t\telse:\n",
    "\t\t\t\t\tsentenceImp[sen] = freq\n",
    "\n",
    "\tvalues = 0\n",
    "\tfor sen in sentenceImp:\n",
    "\t\tvalues += sentenceImp[sen]\n",
    "\taverage = int(values / len(sentenceImp))\n",
    "\n",
    "\tsumm = ''\n",
    "\tfor sen in sentences:\n",
    "\t\tif (sen in sentenceImp) and (sentenceImp[sen] > average*1.1):\n",
    "\t\t\tsumm += \" \" + sen\n",
    "\tres.append(summ)\n",
    "\n",
    "print(res)"
   ]
  }
 ],
 "metadata": {
  "kernelspec": {
   "display_name": "Python 3",
   "language": "python",
   "name": "python3"
  },
  "language_info": {
   "codemirror_mode": {
    "name": "ipython",
    "version": 3
   },
   "file_extension": ".py",
   "mimetype": "text/x-python",
   "name": "python",
   "nbconvert_exporter": "python",
   "pygments_lexer": "ipython3",
   "version": "3.11.3"
  },
  "orig_nbformat": 4
 },
 "nbformat": 4,
 "nbformat_minor": 2
}
